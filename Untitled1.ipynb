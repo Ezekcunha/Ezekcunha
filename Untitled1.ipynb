{
  "nbformat": 4,
  "nbformat_minor": 0,
  "metadata": {
    "colab": {
      "provenance": [],
      "authorship_tag": "ABX9TyOyx1X7lHCjogVwLQ5S0iF8",
      "include_colab_link": true
    },
    "kernelspec": {
      "name": "python3",
      "display_name": "Python 3"
    },
    "language_info": {
      "name": "python"
    }
  },
  "cells": [
    {
      "cell_type": "markdown",
      "metadata": {
        "id": "view-in-github",
        "colab_type": "text"
      },
      "source": [
        "<a href=\"https://colab.research.google.com/github/Ezekcunha/Ezekcunha/blob/main/Untitled1.ipynb\" target=\"_parent\"><img src=\"https://colab.research.google.com/assets/colab-badge.svg\" alt=\"Open In Colab\"/></a>"
      ]
    },
    {
      "cell_type": "code",
      "execution_count": null,
      "metadata": {
        "id": "knSfNKRW3lXj"
      },
      "outputs": [],
      "source": [
        "\n"
      ]
    },
    {
      "source": [
        "def calculadora():\n",
        "    while True:\n",
        "        try:\n",
        "            num1_str = input(\"Digite o primeiro número: \")\n",
        "            num1 = float(num1_str)\n",
        "\n",
        "            operacao = input(\"Digite a operação (+, -, *, /): \")\n",
        "\n",
        "            num2_str = input(\"Digite o segundo número: \")\n",
        "            num2 = float(num2_str)\n",
        "\n",
        "            if operacao == '+':\n",
        "                resultado = num1 + num2\n",
        "            elif operacao == '-':\n",
        "                resultado = num1 - num2\n",
        "            elif operacao == '*':\n",
        "                resultado = num1 * num2\n",
        "            elif operacao == '/':\n",
        "                if num2 == 0:\n",
        "                    print(\"Erro: Divisão por zero não é permitida.\")\n",
        "                    continue\n",
        "                resultado = num1 / num2\n",
        "            else:\n",
        "                print(\"Erro: Operação inválida. Use +, -, *, ou /.\")\n",
        "                continue\n",
        "\n",
        "            print(f\"O resultado é: {resultado}\")\n",
        "            break  # Sai do loop se a operação for bem-sucedida\n",
        "\n",
        "        except ValueError:\n",
        "            print(\"Erro: Entrada inválida. Certifique-se de digitar números válidos.\")\n",
        "        except Exception as e:\n",
        "            print(f\"Ocorreu um erro inesperado: {e}\")\n",
        "\n",
        "calculadora()"
      ],
      "cell_type": "code",
      "metadata": {
        "id": "-Tc8-igo9hFt"
      },
      "execution_count": null,
      "outputs": []
    }
  ]
}