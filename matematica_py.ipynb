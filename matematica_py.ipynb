{
  "cells": [
    {
      "cell_type": "code",
      "source": [
        "# matematica.py\n",
        "\n",
        "def soma(a, b):\n",
        "    \"\"\"\n",
        "    Retorna a soma de dois números.\n",
        "    \"\"\"\n",
        "    return a + b\n",
        "\n",
        "def subtrai(a, b):\n",
        "    \"\"\"\n",
        "    Retorna a subtração de dois números.\n",
        "    \"\"\"\n",
        "    return a - b\n",
        "\n",
        "def fatorial(n):\n",
        "    \"\"\"\n",
        "    Retorna o fatorial de um número inteiro positivo.\n",
        "    Lança ValueError se o número for negativo.\n",
        "    \"\"\"\n",
        "    if not isinstance(n, int) or n < 0:\n",
        "        raise ValueError(\"O fatorial é definido apenas para números inteiros não negativos.\")\n",
        "    if n == 0 or n == 1:\n",
        "        return 1\n",
        "    else:\n",
        "        # Recursão para calcular o fatorial\n",
        "        return n * fatorial(n - 1)"
      ],
      "outputs": [],
      "execution_count": null,
      "metadata": {
        "id": "BnXQcSFlXRzV"
      }
    }
  ],
  "metadata": {
    "colab": {
      "provenance": []
    },
    "kernelspec": {
      "display_name": "Python 3",
      "name": "python3"
    }
  },
  "nbformat": 4,
  "nbformat_minor": 0
}