{
  "nbformat": 4,
  "nbformat_minor": 0,
  "metadata": {
    "colab": {
      "provenance": [],
      "authorship_tag": "ABX9TyNy8dtUbdAznqzfncdOJ2yk"
    },
    "kernelspec": {
      "name": "python3",
      "display_name": "Python 3"
    },
    "language_info": {
      "name": "python"
    }
  },
  "cells": [
    {
      "cell_type": "code",
      "execution_count": 1,
      "metadata": {
        "colab": {
          "base_uri": "https://localhost:8080/"
        },
        "id": "oGlXsXx81p5s",
        "outputId": "c5e1548d-2098-4477-913f-917667d675ed"
      },
      "outputs": [
        {
          "output_type": "stream",
          "name": "stdout",
          "text": [
            "Bem-vindo ao sistema de registro de notas!\n",
            "Digite as notas dos alunos (de 0 a 10). Digite 'fim' para encerrar.\n",
            "Digite a nota do aluno 1 (ou 'fim' para encerrar): 8,5\n",
            "Entrada inválida! Por favor, digite um número ou 'fim'.\n",
            "Digite a nota do aluno 1 (ou 'fim' para encerrar): 8.5\n",
            "Digite a nota do aluno 2 (ou 'fim' para encerrar): 9\n",
            "Digite a nota do aluno 3 (ou 'fim' para encerrar): 7\n",
            "Digite a nota do aluno 4 (ou 'fim' para encerrar): 6\n",
            "Digite a nota do aluno 5 (ou 'fim' para encerrar): 8\n",
            "Digite a nota do aluno 6 (ou 'fim' para encerrar): 9\n",
            "Digite a nota do aluno 7 (ou 'fim' para encerrar): 7\n",
            "Digite a nota do aluno 8 (ou 'fim' para encerrar): 7\n",
            "Digite a nota do aluno 9 (ou 'fim' para encerrar): 10\n",
            "Digite a nota do aluno 10 (ou 'fim' para encerrar): 6\n",
            "Digite a nota do aluno 11 (ou 'fim' para encerrar): fim\n",
            "\n",
            "--- Resumo da Turma ---\n",
            "Notas registradas: [8.5, 9.0, 7.0, 6.0, 8.0, 9.0, 7.0, 7.0, 10.0, 6.0]\n",
            "Número de notas válidas: 10\n",
            "Média da turma: 7.75\n"
          ]
        }
      ],
      "source": [
        "def calcular_media_turma():\n",
        "    \"\"\"\n",
        "    Permite ao professor registrar as notas de uma turma, ignorando notas inválidas,\n",
        "    e exibe a média da turma no final.\n",
        "    \"\"\"\n",
        "    notas = []\n",
        "    total_notas = 0\n",
        "    quantidade_notas_validas = 0\n",
        "\n",
        "    print(\"Bem-vindo ao sistema de registro de notas!\")\n",
        "    print(\"Digite as notas dos alunos (de 0 a 10). Digite 'fim' para encerrar.\")\n",
        "\n",
        "    while True:\n",
        "        entrada = input(f\"Digite a nota do aluno {quantidade_notas_validas + 1} (ou 'fim' para encerrar): \").strip().lower()\n",
        "\n",
        "        if entrada == 'fim':\n",
        "            break\n",
        "\n",
        "        try:\n",
        "            nota = float(entrada)\n",
        "            if 0 <= nota <= 10:\n",
        "                notas.append(nota)\n",
        "                total_notas += nota\n",
        "                quantidade_notas_validas += 1\n",
        "            else:\n",
        "                print(\"Nota inválida! Por favor, digite um valor entre 0 e 10.\")\n",
        "        except ValueError:\n",
        "            print(\"Entrada inválida! Por favor, digite um número ou 'fim'.\")\n",
        "\n",
        "    if quantidade_notas_validas > 0:\n",
        "        media = total_notas / quantidade_notas_validas\n",
        "        print(f\"\\n--- Resumo da Turma ---\")\n",
        "        print(f\"Notas registradas: {notas}\")\n",
        "        print(f\"Número de notas válidas: {quantidade_notas_validas}\")\n",
        "        print(f\"Média da turma: {media:.2f}\")\n",
        "    else:\n",
        "        print(\"\\nNenhuma nota válida foi inserida.\")\n",
        "\n",
        "if __name__ == \"__main__\":\n",
        "    calcular_media_turma()\n",
        "    Notas = []  # Cria uma lista vazia\n",
        "print(len(Notas))  # Saída: 0\n",
        "\n",
        "Notas.append(7.5)\n",
        "Notas.append(8.0)\n",
        "print(len(Notas))  # Saída: 2\n"
      ]
    }
  ]
}